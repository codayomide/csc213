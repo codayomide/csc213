{
 "cells": [
  {
   "cell_type": "code",
   "execution_count": 1,
   "id": "8d3db068",
   "metadata": {},
   "outputs": [
    {
     "name": "stdout",
     "output_type": "stream",
     "text": [
      "Input amount of sales: 4\n",
      "Enter commission rate: 6000\n",
      "The commission is: 24000.0\n",
      "Do you want to calculate another commission (y/n): n\n"
     ]
    }
   ],
   "source": [
    "# While loop example\n",
    "\n",
    "keep_going = 'y'\n",
    "\n",
    "while keep_going == 'y':\n",
    "  sales_amount = float(input('Input amount of sales: '))\n",
    "  comm_rate = float(input('Enter commission rate: '))\n",
    "\n",
    "  commission = sales_amount * comm_rate\n",
    "  print(f\"The commission is: {commission}\")\n",
    "  \n",
    "  keep_going = input('Do you want to calculate another commission (y/n): ').lower"
   ]
  },
  {
   "cell_type": "code",
   "execution_count": 2,
   "id": "b6f31534",
   "metadata": {},
   "outputs": [
    {
     "name": "stdout",
     "output_type": "stream",
     "text": [
      "Range: Single Argument\n",
      "0,1,2,3,4,"
     ]
    }
   ],
   "source": [
    "# For loop with single argument\n",
    "\n",
    "print(\"Range: Single Argument\")\n",
    "for i in range(5):\n",
    "  print(i, end=',')"
   ]
  },
  {
   "cell_type": "code",
   "execution_count": 3,
   "id": "d646dde0",
   "metadata": {},
   "outputs": [
    {
     "name": "stdout",
     "output_type": "stream",
     "text": [
      "Range: Double Arguments\n",
      "2,3,4,5,6,7,8,9,"
     ]
    }
   ],
   "source": [
    "# For loop with double argument\n",
    "\n",
    "print(\"Range: Double Arguments\")\n",
    "for i in range(2, 10):\n",
    "  print(i, end=',')"
   ]
  },
  {
   "cell_type": "code",
   "execution_count": 4,
   "id": "7714baf4",
   "metadata": {},
   "outputs": [
    {
     "name": "stdout",
     "output_type": "stream",
     "text": [
      "Range: Triple Arguments\n",
      "2,4,6,8,"
     ]
    }
   ],
   "source": [
    "print(\"Range: Triple Arguments\")\n",
    "for i in range(2, 10, 2):\n",
    "  print(i, end=',')"
   ]
  },
  {
   "cell_type": "code",
   "execution_count": 5,
   "id": "df5cc3c2",
   "metadata": {},
   "outputs": [
    {
     "name": "stdout",
     "output_type": "stream",
     "text": [
      "1 \t 1\n",
      "2 \t 4\n",
      "3 \t 9\n",
      "4 \t 16\n",
      "5 \t 25\n",
      "6 \t 36\n",
      "7 \t 49\n",
      "8 \t 64\n",
      "9 \t 81\n",
      "10 \t 100\n"
     ]
    }
   ],
   "source": [
    "for number in range(1, 11):\n",
    "  square = number ** 2\n",
    "  print(number, '\\t', square)"
   ]
  },
  {
   "cell_type": "code",
   "execution_count": 6,
   "id": "c925b485",
   "metadata": {},
   "outputs": [
    {
     "name": "stdout",
     "output_type": "stream",
     "text": [
      "13 \t 2197\n",
      "12 \t 1728\n",
      "11 \t 1331\n",
      "10 \t 1000\n",
      "9 \t 729\n",
      "8 \t 512\n",
      "7 \t 343\n",
      "6 \t 216\n",
      "5 \t 125\n",
      "4 \t 64\n"
     ]
    }
   ],
   "source": [
    "for number in range(13, 3, -1):\n",
    "  cube = number ** 3\n",
    "  print(number, '\\t', cube)"
   ]
  },
  {
   "cell_type": "code",
   "execution_count": 7,
   "id": "e311e028",
   "metadata": {},
   "outputs": [
    {
     "name": "stdout",
     "output_type": "stream",
     "text": [
      "This program calculates the sum of\n",
      "5 numbers you will enter\n",
      "Enter a number: 1\n",
      "The total is:  1\n",
      "Enter a number: 2\n",
      "The total is:  3\n",
      "Enter a number: 3\n",
      "The total is:  6\n",
      "Enter a number: 4\n",
      "The total is:  10\n",
      "Enter a number: 5\n",
      "The total is:  15\n"
     ]
    }
   ],
   "source": [
    "# Calculating a running total\n",
    "\n",
    "accumulator = 0\n",
    "MAX = 5\n",
    "total = 0\n",
    "\n",
    "print('This program calculates the sum of')\n",
    "print(MAX, 'numbers you will enter')\n",
    "\n",
    "for counter in range(MAX):\n",
    "  number = int(input('Enter a number: '))\n",
    "  total = total + number\n",
    "  print('The total is: ', total)"
   ]
  },
  {
   "cell_type": "code",
   "execution_count": 8,
   "id": "5b3bbfcf",
   "metadata": {},
   "outputs": [
    {
     "name": "stdout",
     "output_type": "stream",
     "text": [
      "Input Lot number: 5\n",
      "Input property value: 500000\n",
      "The tax is: 3250.0\n",
      "Do you want to continue? (Input Lot Number if yes, or 0 if no): 0\n"
     ]
    }
   ],
   "source": [
    "# property tax calculator\n",
    "\n",
    "lot_no = int(input('Input Lot number: '))\n",
    "\n",
    "while lot_no != 0:\n",
    "  property_value = float(input('Input property value: '))\n",
    "\n",
    "  property_tax = property_value * 0.0065\n",
    "  print(f\"The tax is: {property_tax}\")\n",
    "\n",
    "  lot_no = int(input('Do you want to continue? (Input Lot Number if yes, or 0 if no): '))"
   ]
  },
  {
   "cell_type": "code",
   "execution_count": null,
   "id": "38d89bc8",
   "metadata": {},
   "outputs": [
    {
     "name": "stdout",
     "output_type": "stream",
     "text": [
      "Input current temperature: 500\n",
      "Turn down the temperature and wait 5 minutes\n",
      "Input the new temperature: 400\n",
      "Turn down the temperature and wait 5 minutes\n",
      "Input the new temperature: 300\n",
      "Turn down the temperature and wait 5 minutes\n",
      "Input the new temperature: 200\n",
      "Turn down the temperature and wait 5 minutes\n",
      "Input the new temperature: 100\n"
     ]
    }
   ],
   "source": [
    "temperature = float(input('Input current temperature: '))\n",
    "\n",
    "while temperature > 102.5:\n",
    "  print('Turn down the temperature and wait 5 minutes')\n",
    "  temperature = float(input('Input the new temperature: '))"
   ]
  }
 ],
 "metadata": {
  "kernelspec": {
   "display_name": "Python 3 (ipykernel)",
   "language": "python",
   "name": "python3"
  },
  "language_info": {
   "codemirror_mode": {
    "name": "ipython",
    "version": 3
   },
   "file_extension": ".py",
   "mimetype": "text/x-python",
   "name": "python",
   "nbconvert_exporter": "python",
   "pygments_lexer": "ipython3",
   "version": "3.11.5"
  }
 },
 "nbformat": 4,
 "nbformat_minor": 5
}
